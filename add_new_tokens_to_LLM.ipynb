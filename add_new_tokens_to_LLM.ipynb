{
  "cells": [
    {
      "cell_type": "markdown",
      "metadata": {
        "id": "view-in-github",
        "colab_type": "text"
      },
      "source": [
        "<a href=\"https://colab.research.google.com/github/tomonari-masada/course2025-nlp/blob/main/add_new_tokens_to_LLM.ipynb\" target=\"_parent\"><img src=\"https://colab.research.google.com/assets/colab-badge.svg\" alt=\"Open In Colab\"/></a>"
      ]
    },
    {
      "cell_type": "markdown",
      "id": "49dad33e",
      "metadata": {
        "id": "49dad33e"
      },
      "source": [
        "## 言語モデルに新しいトークンを追加する方法"
      ]
    },
    {
      "cell_type": "markdown",
      "id": "d6b7310f",
      "metadata": {
        "id": "d6b7310f"
      },
      "source": [
        "### 1. トークナイザとモデルを読み込む"
      ]
    },
    {
      "cell_type": "code",
      "execution_count": null,
      "id": "6fc3a537",
      "metadata": {
        "id": "6fc3a537"
      },
      "outputs": [],
      "source": [
        "from transformers import AutoTokenizer, AutoModelForCausalLM\n",
        "\n",
        "tokenizer = AutoTokenizer.from_pretrained(\"rinna/japanese-gpt2-medium\")\n",
        "model = AutoModelForCausalLM.from_pretrained(\"rinna/japanese-gpt2-medium\")"
      ]
    },
    {
      "cell_type": "markdown",
      "id": "74b31e72",
      "metadata": {
        "id": "74b31e72"
      },
      "source": [
        "* 語彙サイズを確認する。"
      ]
    },
    {
      "cell_type": "code",
      "execution_count": null,
      "id": "704c394c",
      "metadata": {
        "id": "704c394c"
      },
      "outputs": [],
      "source": [
        "len(tokenizer)"
      ]
    },
    {
      "cell_type": "markdown",
      "id": "474d3ec9",
      "metadata": {
        "id": "474d3ec9"
      },
      "source": [
        "### 2. 新しいトークンを追加する"
      ]
    },
    {
      "cell_type": "code",
      "execution_count": null,
      "id": "090b8c98",
      "metadata": {
        "id": "090b8c98"
      },
      "outputs": [],
      "source": [
        "num_added_toks = tokenizer.add_tokens([\"bin_tok1\", \"bin_tok2\", \"bin_tok3\", \"bin_tok4\", \"bin_tok5\"])\n",
        "print(\"We have added\", num_added_toks, \"tokens\")"
      ]
    },
    {
      "cell_type": "markdown",
      "id": "b191748f",
      "metadata": {
        "id": "b191748f"
      },
      "source": [
        "* 語彙サイズを確認する。\n",
        "  * 追加したトークンの数だけ、語彙数が増加している。"
      ]
    },
    {
      "cell_type": "code",
      "execution_count": null,
      "id": "56355c7c",
      "metadata": {
        "id": "56355c7c"
      },
      "outputs": [],
      "source": [
        "len(tokenizer)"
      ]
    },
    {
      "cell_type": "markdown",
      "id": "8317fe0b",
      "metadata": {
        "id": "8317fe0b"
      },
      "source": [
        "### 3. モデルの側の埋め込み行列のサイズを拡張する"
      ]
    },
    {
      "cell_type": "markdown",
      "id": "26527f28",
      "metadata": {
        "id": "26527f28"
      },
      "source": [
        "* 拡張後の埋め込み行列のサイズが表示される。"
      ]
    },
    {
      "cell_type": "code",
      "execution_count": null,
      "id": "91e56b50",
      "metadata": {
        "id": "91e56b50"
      },
      "outputs": [],
      "source": [
        "model.resize_token_embeddings(len(tokenizer))"
      ]
    },
    {
      "cell_type": "markdown",
      "id": "e89f38af",
      "metadata": {
        "id": "e89f38af"
      },
      "source": [
        "### 4. 新たに追加したトークンの埋め込みベクトルを初期化する"
      ]
    },
    {
      "cell_type": "markdown",
      "id": "16545058",
      "metadata": {
        "id": "16545058"
      },
      "source": [
        "* copilotが薦めてきた初期化方法は、以下の通り。\n",
        "  * 元の語彙の埋め込みベクトルの平均で初期化している。"
      ]
    },
    {
      "cell_type": "code",
      "execution_count": null,
      "id": "43d8ffed",
      "metadata": {
        "id": "43d8ffed"
      },
      "outputs": [],
      "source": [
        "model.transformer.wte.weight.data[-num_added_toks:] = model.transformer.wte.weight.data[:-num_added_toks].mean(dim=0)"
      ]
    },
    {
      "cell_type": "code",
      "execution_count": null,
      "id": "ae4c0b79",
      "metadata": {
        "id": "ae4c0b79"
      },
      "outputs": [],
      "source": [
        "model.transformer.wte.weight.data[-num_added_toks:]"
      ]
    },
    {
      "cell_type": "code",
      "source": [
        "model.transformer.wte.weight.data[:10]"
      ],
      "metadata": {
        "id": "auLTyua49dD4"
      },
      "id": "auLTyua49dD4",
      "execution_count": null,
      "outputs": []
    },
    {
      "cell_type": "code",
      "source": [],
      "metadata": {
        "id": "LadB3-f-9fTE"
      },
      "id": "LadB3-f-9fTE",
      "execution_count": null,
      "outputs": []
    }
  ],
  "metadata": {
    "kernelspec": {
      "display_name": "Python 3",
      "name": "python3"
    },
    "language_info": {
      "codemirror_mode": {
        "name": "ipython",
        "version": 3
      },
      "file_extension": ".py",
      "mimetype": "text/x-python",
      "name": "python",
      "nbconvert_exporter": "python",
      "pygments_lexer": "ipython3",
      "version": "3.12.10"
    },
    "colab": {
      "provenance": [],
      "gpuType": "T4",
      "include_colab_link": true
    },
    "accelerator": "GPU"
  },
  "nbformat": 4,
  "nbformat_minor": 5
}