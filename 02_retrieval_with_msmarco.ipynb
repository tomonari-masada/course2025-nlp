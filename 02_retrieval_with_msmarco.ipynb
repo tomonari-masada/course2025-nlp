{
  "nbformat": 4,
  "nbformat_minor": 0,
  "metadata": {
    "colab": {
      "provenance": [],
      "gpuType": "T4",
      "authorship_tag": "ABX9TyMlOrQJLCn20wwAGnsPoIyT",
      "include_colab_link": true
    },
    "kernelspec": {
      "name": "python3",
      "display_name": "Python 3"
    },
    "language_info": {
      "name": "python"
    },
    "accelerator": "GPU"
  },
  "cells": [
    {
      "cell_type": "markdown",
      "metadata": {
        "id": "view-in-github",
        "colab_type": "text"
      },
      "source": [
        "<a href=\"https://colab.research.google.com/github/tomonari-masada/course2025-nlp/blob/main/02_retrieval_with_msmarco.ipynb\" target=\"_parent\"><img src=\"https://colab.research.google.com/assets/colab-badge.svg\" alt=\"Open In Colab\"/></a>"
      ]
    },
    {
      "cell_type": "markdown",
      "source": [
        "# 情報検索の練習\n"
      ],
      "metadata": {
        "id": "OR6RfSxEkjJ6"
      }
    },
    {
      "cell_type": "markdown",
      "source": [
        "* とは言え、何百万件の文書から検索する実験は大変時間がかかるので・・・"
      ],
      "metadata": {
        "id": "FBk22z1DnZZb"
      }
    },
    {
      "cell_type": "markdown",
      "source": [
        "* MS MARCO v1.1というデータセットを使う。\n",
        "  * 10個のpassageの中からqueryにrelevantなものを選ぶ。"
      ],
      "metadata": {
        "id": "C5A9jd25nW7h"
      }
    },
    {
      "cell_type": "markdown",
      "source": [
        "* ランタイムのタイプをGPUに設定しておく。"
      ],
      "metadata": {
        "id": "l-11MSi2k64w"
      }
    },
    {
      "cell_type": "code",
      "source": [
        "from tqdm.auto import tqdm\n",
        "import numpy as np\n",
        "from sklearn.feature_extraction.text import TfidfVectorizer\n",
        "from datasets import load_dataset\n",
        "from sentence_transformers import SentenceTransformer"
      ],
      "metadata": {
        "id": "9pMi9c1Hl-qr"
      },
      "execution_count": null,
      "outputs": []
    },
    {
      "cell_type": "markdown",
      "source": [
        "## データセットのロード"
      ],
      "metadata": {
        "id": "LTsHTq6jk1H2"
      }
    },
    {
      "cell_type": "code",
      "execution_count": null,
      "metadata": {
        "id": "VJA04uBdkgQW"
      },
      "outputs": [],
      "source": [
        "ds = load_dataset(\"microsoft/ms_marco\", \"v1.1\")"
      ]
    },
    {
      "cell_type": "code",
      "source": [
        "ds"
      ],
      "metadata": {
        "id": "KMf1pTW8k3Sx"
      },
      "execution_count": null,
      "outputs": []
    },
    {
      "cell_type": "code",
      "source": [
        "ds[\"train\"][0]"
      ],
      "metadata": {
        "id": "wUesDXaMlQEH"
      },
      "execution_count": null,
      "outputs": []
    },
    {
      "cell_type": "markdown",
      "source": [
        "## Sparse retrieval"
      ],
      "metadata": {
        "id": "1L5tv7AGpZVY"
      }
    },
    {
      "cell_type": "markdown",
      "source": [
        "### データの準備"
      ],
      "metadata": {
        "id": "h5ehq7BPpasQ"
      }
    },
    {
      "cell_type": "code",
      "source": [
        "ds[\"train\"][\"passages\"][\"passage_text\"][:10]"
      ],
      "metadata": {
        "id": "kSfU_wuBn3Fx"
      },
      "execution_count": null,
      "outputs": []
    },
    {
      "cell_type": "code",
      "source": [
        "corpus = []\n",
        "for i in tqdm(range(len(ds[\"train\"]))):\n",
        "  corpus += ds[\"train\"][i]['passages']['passage_text']"
      ],
      "metadata": {
        "id": "CVcw-0MMoyAi"
      },
      "execution_count": null,
      "outputs": []
    },
    {
      "cell_type": "code",
      "source": [
        "len(corpus)"
      ],
      "metadata": {
        "id": "fDeZuv5vpOnS"
      },
      "execution_count": null,
      "outputs": []
    },
    {
      "cell_type": "markdown",
      "source": [
        "### (0) `sklearn.feature_extraction.TfidfVectorizer`"
      ],
      "metadata": {
        "id": "N9KOkRiCrbmy"
      }
    },
    {
      "cell_type": "markdown",
      "source": [
        "* `TfidfVectorizer`のパラメータは適当に設定する。"
      ],
      "metadata": {
        "id": "MI9JnJCzpxhZ"
      }
    },
    {
      "cell_type": "code",
      "source": [
        "vectorizer = TfidfVectorizer(min_df=0.001, max_df=0.2, stop_words=\"english\")\n",
        "vectorizer.fit(corpus)"
      ],
      "metadata": {
        "id": "OmuYRJVYnl_P"
      },
      "execution_count": null,
      "outputs": []
    },
    {
      "cell_type": "markdown",
      "source": [
        "* 語彙サイズを調べる。"
      ],
      "metadata": {
        "id": "xhcbpOJpp-5m"
      }
    },
    {
      "cell_type": "code",
      "source": [
        "len(vectorizer.get_feature_names_out())"
      ],
      "metadata": {
        "id": "rYRAjeEQp725"
      },
      "execution_count": null,
      "outputs": []
    },
    {
      "cell_type": "code",
      "source": [
        "query_embedding = vectorizer.transform([ds[\"train\"][0]['query']]).todense()\n",
        "query_embedding"
      ],
      "metadata": {
        "id": "5J6vhZISqCSL"
      },
      "execution_count": null,
      "outputs": []
    },
    {
      "cell_type": "code",
      "source": [
        "passage_text_embeddings = vectorizer.transform(ds[\"train\"][0]['passages']['passage_text']).todense()\n",
        "passage_text_embeddings"
      ],
      "metadata": {
        "id": "iJjLGtU1qOVv"
      },
      "execution_count": null,
      "outputs": []
    },
    {
      "cell_type": "code",
      "source": [
        "relevance_scores = ds[\"train\"][0]['passages']['is_selected']\n",
        "relevance_scores"
      ],
      "metadata": {
        "id": "hgwEZFK0q80N"
      },
      "execution_count": null,
      "outputs": []
    },
    {
      "cell_type": "code",
      "source": [
        "relevance_scores[np.argmax(query_embedding @ passage_text_embeddings.T)]"
      ],
      "metadata": {
        "id": "EpuvPETfrBwI"
      },
      "execution_count": null,
      "outputs": []
    },
    {
      "cell_type": "code",
      "source": [
        "num_correct = 0\n",
        "for i in range(len(ds[\"train\"])):\n",
        "  query_embedding = vectorizer.transform([ds[\"train\"][i]['query']])\n",
        "  passage_text_embeddings = vectorizer.transform(ds[\"train\"][i]['passages']['passage_text'])\n",
        "  relevance_scores = ds[\"train\"][i]['passages']['is_selected']\n",
        "  num_correct += relevance_scores[np.argmax(query_embedding @ passage_text_embeddings.T)]\n",
        "  if (i + 1) % 100 == 0:\n",
        "    print(f\"{i + 1} queries processed, Prec@1: {num_correct / (i + 1):.4f}\")"
      ],
      "metadata": {
        "id": "vqKFhmhErE3U"
      },
      "execution_count": null,
      "outputs": []
    },
    {
      "cell_type": "markdown",
      "source": [
        "## Dense retrieval"
      ],
      "metadata": {
        "id": "tGG5LX5slXUA"
      }
    },
    {
      "cell_type": "markdown",
      "source": [
        "### (1) `google-bert/bert-large-uncased`"
      ],
      "metadata": {
        "id": "BZsdbvY1lZ13"
      }
    },
    {
      "cell_type": "code",
      "source": [
        "model = SentenceTransformer(\"google-bert/bert-large-uncased\")"
      ],
      "metadata": {
        "id": "O5C9SUrklVz1"
      },
      "execution_count": null,
      "outputs": []
    },
    {
      "cell_type": "code",
      "source": [
        "query_embedding = model.encode([ds[\"train\"][0]['query']])\n",
        "query_embedding"
      ],
      "metadata": {
        "id": "-6Xg725cler-"
      },
      "execution_count": null,
      "outputs": []
    },
    {
      "cell_type": "code",
      "source": [
        "query_embedding.shape"
      ],
      "metadata": {
        "id": "OgHodRJ0lvEp"
      },
      "execution_count": null,
      "outputs": []
    },
    {
      "cell_type": "code",
      "source": [
        "passage_text_embeddings = model.encode(ds[\"train\"][0]['passages']['passage_text'])"
      ],
      "metadata": {
        "id": "Gjl0O5v2lqj1"
      },
      "execution_count": null,
      "outputs": []
    },
    {
      "cell_type": "code",
      "source": [
        "passage_text_embeddings.shape"
      ],
      "metadata": {
        "id": "LzXvPLd-lyvA"
      },
      "execution_count": null,
      "outputs": []
    },
    {
      "cell_type": "code",
      "source": [
        "relevance_scores = ds[\"train\"][0]['passages']['is_selected']\n",
        "relevance_scores"
      ],
      "metadata": {
        "id": "-Bq_qlCglrFM"
      },
      "execution_count": null,
      "outputs": []
    },
    {
      "cell_type": "code",
      "source": [
        "relevance_scores[np.argmax(query_embedding @ passage_text_embeddings.T)]"
      ],
      "metadata": {
        "id": "QUYqqba3l5Yv"
      },
      "execution_count": null,
      "outputs": []
    },
    {
      "cell_type": "code",
      "source": [
        "num_correct = 0\n",
        "for i in range(len(ds[\"train\"])):\n",
        "  query_embedding = model.encode([ds[\"train\"][i]['query']])\n",
        "  passage_text_embeddings = model.encode(ds[\"train\"][i]['passages']['passage_text'])\n",
        "  relevance_scores = ds[\"train\"][i]['passages']['is_selected']\n",
        "  num_correct += relevance_scores[np.argmax(query_embedding @ passage_text_embeddings.T)]\n",
        "  if (i + 1) % 100 == 0:\n",
        "    print(f\"{i + 1} queries processed, Prec@1: {num_correct / (i + 1):.4f}\")"
      ],
      "metadata": {
        "id": "4BoiKzxkmJIP"
      },
      "execution_count": null,
      "outputs": []
    },
    {
      "cell_type": "markdown",
      "source": [
        "### (2) `ibm-granite/granite-embedding-125m-english`\n",
        "* IBMによる埋め込みモデル\n",
        "  * https://arxiv.org/abs/2508.21085"
      ],
      "metadata": {
        "id": "KABhTCLPmYGb"
      }
    },
    {
      "cell_type": "code",
      "source": [
        "from sentence_transformers import SentenceTransformer\n",
        "\n",
        "model = SentenceTransformer(\"ibm-granite/granite-embedding-125m-english\")"
      ],
      "metadata": {
        "id": "OL6Dts5mle_9"
      },
      "execution_count": null,
      "outputs": []
    },
    {
      "cell_type": "code",
      "source": [
        "query_embedding = model.encode([ds[\"train\"][0]['query']])\n",
        "query_embedding"
      ],
      "metadata": {
        "id": "ygZm0Qx1qn0u"
      },
      "execution_count": null,
      "outputs": []
    },
    {
      "cell_type": "code",
      "source": [
        "query_embedding.shape"
      ],
      "metadata": {
        "id": "h40PEjavqq_0"
      },
      "execution_count": null,
      "outputs": []
    },
    {
      "cell_type": "code",
      "source": [
        "num_correct = 0\n",
        "for i in range(len(ds[\"train\"])):\n",
        "  query_embedding = model.encode([ds[\"train\"][i]['query']])\n",
        "  passage_text_embeddings = model.encode(ds[\"train\"][i]['passages']['passage_text'])\n",
        "  relevance_scores = ds[\"train\"][i]['passages']['is_selected']\n",
        "  num_correct += relevance_scores[np.argmax(query_embedding @ passage_text_embeddings.T)]\n",
        "  if (i + 1) % 100 == 0:\n",
        "    print(f\"{i + 1} queries processed, Prec@1: {num_correct / (i + 1):.4f}\")"
      ],
      "metadata": {
        "id": "Mkj7MmoYmmF5"
      },
      "execution_count": null,
      "outputs": []
    },
    {
      "cell_type": "markdown",
      "source": [
        "# 課題\n",
        "* 以下の場所で埋め込みモデルを適当に選んで同じ評価をおこなってみる。\n",
        "* どのようなモデルが高いaccuracyを示すだろうか？"
      ],
      "metadata": {
        "id": "LGlulghzmu6Z"
      }
    },
    {
      "cell_type": "markdown",
      "source": [
        "* MTEB Leaderboard\n",
        "  * https://huggingface.co/spaces/mteb/leaderboard"
      ],
      "metadata": {
        "id": "MvIUeKqXm-c0"
      }
    },
    {
      "cell_type": "code",
      "source": [],
      "metadata": {
        "id": "VOd3NzWvmpbZ"
      },
      "execution_count": null,
      "outputs": []
    }
  ]
}